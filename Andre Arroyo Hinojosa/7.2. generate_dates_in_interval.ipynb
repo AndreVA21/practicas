{
 "cells": [
  {
   "cell_type": "markdown",
   "metadata": {},
   "source": [
    "Generate dates between 9/12/2022 and 9/16/2022\n",
    "* start_date is string in this format ddd/mm/yyyy\n",
    "* end_date is string in this format ddd/mm/yyyy\n",
    "* default_value is any value to be set for non date key/value pair\n",
    "* start_date and end_date must be considered as part of the result\n",
    "* Your solution must pass the assertions specified below"
   ]
  },
  {
   "cell_type": "code",
   "execution_count": 129,
   "metadata": {},
   "outputs": [],
   "source": [
    "from datetime import datetime, timedelta\n",
    "import re\n",
    "\n",
    "DATA_FORMAT='%m/%d/%Y'"
   ]
  },
  {
   "cell_type": "code",
   "execution_count": 130,
   "metadata": {},
   "outputs": [],
   "source": [
    "def filtro_handler(String) -> list:\n",
    "    return [abs(int(s)) for s in re.findall(r'-?\\d+\\.?\\d*', String)]"
   ]
  },
  {
   "cell_type": "code",
   "execution_count": 131,
   "metadata": {},
   "outputs": [],
   "source": [
    "def get_default_date_data(start_date, end_date, default_value):\n",
    "    list_data = []\n",
    "\n",
    "    try:\n",
    "        start_date = datetime.strptime(start_date, DATA_FORMAT)\n",
    "        end_date = datetime.strptime(end_date, DATA_FORMAT)\n",
    "    except:\n",
    "        return list_data\n",
    "\n",
    "    if start_date > end_date:\n",
    "        return list_data\n",
    "        \n",
    "    if start_date < end_date:\n",
    "        list_data.append(start_date)\n",
    "        list_data.append(end_date)\n",
    "        return days_between_dates(list_data,list_dates=[])\n",
    "        \n",
    "\n",
    "    if start_date == end_date:\n",
    "\n",
    "        list_data.append(start_date)\n",
    "        data_fil = filtro_handler(str(list_data))\n",
    "        string = f\"{data_fil[1]}/{data_fil[2]}/{data_fil[0]}\"\n",
    "\n",
    "        return [{'date': string, 'participants': default_value}]\n",
    "    "
   ]
  },
  {
   "cell_type": "code",
   "execution_count": 132,
   "metadata": {},
   "outputs": [],
   "source": [
    "def days_between_dates(list_data, list_dates) -> list:\n",
    "\n",
    "    for i in range((((list_data[1]-list_data[0])).days + 1)):\n",
    "\n",
    "        data_dir = str(list_data[0] + timedelta(days=i))\n",
    "        \n",
    "        data_string=filtro_handler(data_dir)\n",
    "\n",
    "        data_string=f\"{data_string[1]}/{data_string[2]}/{data_string[0]}\"\n",
    "        list_dates.append({'date': data_string, 'participants': default_value})\n",
    "        \n",
    "    return list_dates"
   ]
  },
  {
   "cell_type": "code",
   "execution_count": 133,
   "metadata": {},
   "outputs": [],
   "source": [
    "start_date = '9/12/2022'\n",
    "end_date = '9/12/2022'\n",
    "default_value = -99999\n",
    "\n",
    "dates = get_default_date_data(start_date, end_date, default_value)\n",
    "assert {'date': '9/12/2022', 'participants': -99999} in dates"
   ]
  },
  {
   "cell_type": "code",
   "execution_count": 134,
   "metadata": {},
   "outputs": [],
   "source": [
    "start_date = '9/12/2022'\n",
    "end_date = '9/15/2022'\n",
    "default_value = None\n",
    "\n",
    "dates = get_default_date_data(start_date, end_date, default_value)\n",
    "assert {'date': '9/12/2022', 'participants': None} in dates\n",
    "assert {'date': '9/13/2022', 'participants': None} in dates\n",
    "assert {'date': '9/14/2022', 'participants': None} in dates\n",
    "assert {'date': '9/15/2022', 'participants': None} in dates"
   ]
  },
  {
   "cell_type": "code",
   "execution_count": 135,
   "metadata": {},
   "outputs": [],
   "source": [
    "start_date = '9/12/2022'\n",
    "end_date = '9/15/2022'\n",
    "default_value = -99999\n",
    "\n",
    "dates = get_default_date_data(start_date, end_date, default_value)\n",
    "assert {'date': '9/12/2022', 'participants': -99999} in dates\n",
    "assert {'date': '9/13/2022', 'participants': -99999} in dates\n",
    "assert {'date': '9/14/2022', 'participants': -99999} in dates\n",
    "assert {'date': '9/15/2022', 'participants': -99999} in dates"
   ]
  },
  {
   "cell_type": "code",
   "execution_count": 136,
   "metadata": {},
   "outputs": [],
   "source": [
    "start_date = '9/15/2022'\n",
    "end_date = '9/10/2022'\n",
    "default_value = -99999\n",
    "\n",
    "dates = get_default_date_data(start_date, end_date, default_value)\n",
    "assert len(dates) == 0"
   ]
  },
  {
   "cell_type": "code",
   "execution_count": 137,
   "metadata": {},
   "outputs": [
    {
     "name": "stdout",
     "output_type": "stream",
     "text": [
      "0\n"
     ]
    }
   ],
   "source": [
    "start_date = None\n",
    "end_date = None\n",
    "default_value = -99999\n",
    "\n",
    "dates = get_default_date_data(start_date, end_date, default_value)\n",
    "print(len(dates))\n",
    "assert len(dates) == 0"
   ]
  },
  {
   "cell_type": "code",
   "execution_count": 138,
   "metadata": {},
   "outputs": [
    {
     "ename": "AssertionError",
     "evalue": "",
     "output_type": "error",
     "traceback": [
      "\u001b[1;31m---------------------------------------------------------------------------\u001b[0m",
      "\u001b[1;31mAssertionError\u001b[0m                            Traceback (most recent call last)",
      "Cell \u001b[1;32mIn [138], line 6\u001b[0m\n\u001b[0;32m      3\u001b[0m default_value \u001b[38;5;241m=\u001b[39m \u001b[38;5;124m\"\u001b[39m\u001b[38;5;124m0h 0m\u001b[39m\u001b[38;5;124m\"\u001b[39m\n\u001b[0;32m      5\u001b[0m dates \u001b[38;5;241m=\u001b[39m get_default_date_data(start_date, end_date, default_value)\n\u001b[1;32m----> 6\u001b[0m \u001b[38;5;28;01massert\u001b[39;00m {\u001b[38;5;124m'\u001b[39m\u001b[38;5;124mdate\u001b[39m\u001b[38;5;124m'\u001b[39m: \u001b[38;5;124m'\u001b[39m\u001b[38;5;124m9/12/2022\u001b[39m\u001b[38;5;124m'\u001b[39m, \u001b[38;5;124m'\u001b[39m\u001b[38;5;124mparticipants\u001b[39m\u001b[38;5;124m'\u001b[39m: \u001b[38;5;124m'\u001b[39m\u001b[38;5;124m0h 0m\u001b[39m\u001b[38;5;124m'\u001b[39m} \u001b[38;5;129;01min\u001b[39;00m dates\n\u001b[0;32m      7\u001b[0m \u001b[38;5;28;01massert\u001b[39;00m {\u001b[38;5;124m'\u001b[39m\u001b[38;5;124mdate\u001b[39m\u001b[38;5;124m'\u001b[39m: \u001b[38;5;124m'\u001b[39m\u001b[38;5;124m9/13/2022\u001b[39m\u001b[38;5;124m'\u001b[39m, \u001b[38;5;124m'\u001b[39m\u001b[38;5;124mparticipants\u001b[39m\u001b[38;5;124m'\u001b[39m: \u001b[38;5;124m'\u001b[39m\u001b[38;5;124m0h 0m\u001b[39m\u001b[38;5;124m'\u001b[39m} \u001b[38;5;129;01min\u001b[39;00m dates\n\u001b[0;32m      8\u001b[0m \u001b[38;5;28;01massert\u001b[39;00m {\u001b[38;5;124m'\u001b[39m\u001b[38;5;124mdate\u001b[39m\u001b[38;5;124m'\u001b[39m: \u001b[38;5;124m'\u001b[39m\u001b[38;5;124m9/14/2022\u001b[39m\u001b[38;5;124m'\u001b[39m, \u001b[38;5;124m'\u001b[39m\u001b[38;5;124mparticipants\u001b[39m\u001b[38;5;124m'\u001b[39m: \u001b[38;5;124m'\u001b[39m\u001b[38;5;124m0h 0m\u001b[39m\u001b[38;5;124m'\u001b[39m} \u001b[38;5;129;01min\u001b[39;00m dates\n",
      "\u001b[1;31mAssertionError\u001b[0m: "
     ]
    }
   ],
   "source": [
    "start_date = None\n",
    "end_date = None\n",
    "default_value = \"0h 0m\"\n",
    "\n",
    "dates = get_default_date_data(start_date, end_date, default_value)\n",
    "assert {'date': '9/12/2022', 'participants': '0h 0m'} in dates\n",
    "assert {'date': '9/13/2022', 'participants': '0h 0m'} in dates\n",
    "assert {'date': '9/14/2022', 'participants': '0h 0m'} in dates\n",
    "assert {'date': '9/15/2022', 'participants': '0h 0m'} in dates"
   ]
  }
 ],
 "metadata": {
  "interpreter": {
   "hash": "369f2c481f4da34e4445cda3fffd2e751bd1c4d706f27375911949ba6bb62e1c"
  },
  "kernelspec": {
   "display_name": "Python 3.10.6 64-bit",
   "language": "python",
   "name": "python3"
  },
  "language_info": {
   "codemirror_mode": {
    "name": "ipython",
    "version": 3
   },
   "file_extension": ".py",
   "mimetype": "text/x-python",
   "name": "python",
   "nbconvert_exporter": "python",
   "pygments_lexer": "ipython3",
   "version": "3.10.6"
  },
  "orig_nbformat": 4,
  "vscode": {
   "interpreter": {
    "hash": "397704579725e15f5c7cb49fe5f0341eb7531c82d19f2c29d197e8b64ab5776b"
   }
  }
 },
 "nbformat": 4,
 "nbformat_minor": 2
}
