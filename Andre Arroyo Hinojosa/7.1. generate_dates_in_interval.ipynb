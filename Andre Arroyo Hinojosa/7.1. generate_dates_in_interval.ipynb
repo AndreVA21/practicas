{
 "cells": [
  {
   "cell_type": "markdown",
   "metadata": {},
   "source": [
    "Generate dates between 9/12/2022 and 9/16/2022\n",
    "* start_date is string in this format ddd/mm/yyyy\n",
    "* end_date is string in this format ddd/mm/yyyy\n",
    "* start_date and end_date must be considered as part of the result\n",
    "* result elements are string values in this format ddd/mm/yyyy\n",
    "* Your solution must pass the assertions specified below"
   ]
  },
  {
   "cell_type": "code",
   "execution_count": 237,
   "metadata": {},
   "outputs": [],
   "source": [
    "from datetime import datetime, timedelta\n",
    "import re\n",
    "\n",
    "DATA_FORMAT='%m/%d/%Y'\n"
   ]
  },
  {
   "cell_type": "code",
   "execution_count": 239,
   "metadata": {},
   "outputs": [],
   "source": [
    "def days_between_dates(list_data, list_dates) -> list:\n",
    "\n",
    "    for i in range((((list_data[1]-list_data[0])).days + 1)):\n",
    "\n",
    "        data_dir = str(list_data[0] + timedelta(days=i))\n",
    "        \n",
    "        data_string=filtro_handler(data_dir)\n",
    "\n",
    "        data_string=f\"{data_string[1]}/{data_string[2]}/{data_string[0]}\"\n",
    "        list_dates.append(data_string)\n",
    "        \n",
    "    return list_dates"
   ]
  },
  {
   "cell_type": "code",
   "execution_count": 240,
   "metadata": {},
   "outputs": [],
   "source": [
    "def get_dates_in_interval(start_date, end_date) -> str|list:\n",
    "\n",
    "    list_data=[]\n",
    "\n",
    "    try:\n",
    "        start_date = datetime.strptime(start_date, DATA_FORMAT)\n",
    "        end_date = datetime.strptime(end_date, DATA_FORMAT)\n",
    "    except:\n",
    "        return None\n",
    "\n",
    "    if start_date > end_date:\n",
    "        return None\n",
    "        \n",
    "    if start_date < end_date:\n",
    "        list_data.append(start_date)\n",
    "        list_data.append(end_date)\n",
    "        return days_between_dates(list_data,list_dates=[])\n",
    "        \n",
    "\n",
    "    if start_date == end_date:\n",
    "\n",
    "        list_data.append(start_date)\n",
    "        data_fil = filtro_handler(str(list_data))\n",
    "\n",
    "        return f\"{data_fil[1]}/{data_fil[2]}/{data_fil[0]}\""
   ]
  },
  {
   "cell_type": "code",
   "execution_count": 241,
   "metadata": {},
   "outputs": [],
   "source": [
    "def filtro_handler(String) -> list:\n",
    "    return [abs(int(s)) for s in re.findall(r'-?\\d+\\.?\\d*', String)]"
   ]
  },
  {
   "cell_type": "code",
   "execution_count": 242,
   "metadata": {},
   "outputs": [],
   "source": [
    "start_date = '9/12/2022'\n",
    "end_date = '9/12/2022'\n",
    "\n",
    "dates = get_dates_in_interval(start_date, end_date)\n",
    "assert '9/12/2022' in dates"
   ]
  },
  {
   "cell_type": "code",
   "execution_count": 247,
   "metadata": {},
   "outputs": [],
   "source": [
    "start_date = '9/12/2022'\n",
    "end_date = '9/15/2022'\n",
    "\n",
    "dates = get_dates_in_interval(start_date, end_date)\n",
    "\n",
    "\n",
    "assert '9/12/2022' in dates\n",
    "assert '9/13/2022' in dates\n",
    "assert '9/14/2022' in dates\n",
    "assert '9/15/2022' in dates"
   ]
  },
  {
   "cell_type": "code",
   "execution_count": 244,
   "metadata": {},
   "outputs": [],
   "source": [
    "start_date = '9/15/2022'\n",
    "end_date = '9/10/2022'\n",
    "\n",
    "dates = get_dates_in_interval(start_date, end_date)\n",
    "assert dates is None"
   ]
  },
  {
   "cell_type": "code",
   "execution_count": 245,
   "metadata": {},
   "outputs": [],
   "source": [
    "start_date = None\n",
    "end_date = None\n",
    "\n",
    "dates = get_dates_in_interval(start_date, end_date)\n",
    "assert dates is None"
   ]
  }
 ],
 "metadata": {
  "interpreter": {
   "hash": "369f2c481f4da34e4445cda3fffd2e751bd1c4d706f27375911949ba6bb62e1c"
  },
  "kernelspec": {
   "display_name": "Python 3.10.6 64-bit",
   "language": "python",
   "name": "python3"
  },
  "language_info": {
   "codemirror_mode": {
    "name": "ipython",
    "version": 3
   },
   "file_extension": ".py",
   "mimetype": "text/x-python",
   "name": "python",
   "nbconvert_exporter": "python",
   "pygments_lexer": "ipython3",
   "version": "3.10.6"
  },
  "orig_nbformat": 4,
  "vscode": {
   "interpreter": {
    "hash": "397704579725e15f5c7cb49fe5f0341eb7531c82d19f2c29d197e8b64ab5776b"
   }
  }
 },
 "nbformat": 4,
 "nbformat_minor": 2
}
